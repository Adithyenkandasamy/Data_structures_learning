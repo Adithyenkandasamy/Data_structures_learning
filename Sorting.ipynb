{
 "cells": [
  {
   "cell_type": "markdown",
   "id": "e0a7c8ea",
   "metadata": {
    "vscode": {
     "languageId": "plaintext"
    }
   },
   "source": [
    "# Bubble sort:\n",
    "- Bubble Sort is one of the simplest sorting algorithms.\n",
    "- It repeatedly compares adjacent elements and swaps them if they are in the wrong order.\n",
    "- After each full pass, the largest element \"bubbles up\" to the end of the list.\n",
    "\n",
    "# Time & Space Complexity\n",
    "- Time Complexity:\n",
    "    - Best Case (Already Sorted): O(n) → if we add an optimization check.\n",
    "    - Average Case: O(n²)\n",
    "    - Worst Case (Reverse Sorted): O(n²)\n",
    "\n",
    "- Space Complexity:\n",
    "    - O(1) → In-place sorting, no extra space."
   ]
  },
  {
   "cell_type": "code",
   "execution_count": null,
   "id": "bbe01646",
   "metadata": {},
   "outputs": [
    {
     "name": "stdout",
     "output_type": "stream",
     "text": [
      "Unsorted: [64, 34, 25, 12, 22, 11, 90]\n",
      "Sorted: [11, 12, 22, 25, 34, 64, 90]\n"
     ]
    }
   ],
   "source": [
    "def bubble_sort(arr):\n",
    "    n = len(arr)\n",
    "    for i in range(n):  # Loop for passes\n",
    "        for j in range(0, n - i - 1):  # Compare until last sorted part\n",
    "            if arr[j] > arr[j + 1]:  # Swap if wrong order\n",
    "                arr[j], arr[j + 1] = arr[j + 1], arr[j]\n",
    "    return arr\n",
    "\n",
    "\n",
    "# Example usage\n",
    "data = [64, 34, 25, 12, 22, 11, 90]\n",
    "print(\"Unsorted:\", data)\n",
    "print(\"Sorted:\", bubble_sort(data))\n",
    "\n",
    "# More optimised code with a flag to check if any swaps were made\n",
    "def bubble_sort_optimized(arr):\n",
    "    n = len(arr)\n",
    "    for i in range(n):\n",
    "        swapped = False\n",
    "        for j in range(0, n - i - 1):\n",
    "            if arr[j] > arr[j + 1]:\n",
    "                arr[j], arr[j + 1] = arr[j + 1], arr[j]\n",
    "                swapped = True\n",
    "        if not swapped:  # No swaps → already sorted\n",
    "            break\n",
    "    return arr\n"
   ]
  },
  {
   "cell_type": "markdown",
   "id": "2ef2d000",
   "metadata": {},
   "source": [
    "![alt text](image-8.png)"
   ]
  },
  {
   "cell_type": "markdown",
   "id": "9da915df",
   "metadata": {},
   "source": [
    "# Selection sort:\n",
    "- Selection Sort works by repeatedly finding the minimum element from the unsorted part of the array and putting it in the correct position.\n",
    "- Unlike Bubble Sort (which swaps many times), Selection Sort minimizes swaps by doing at most n-1 swaps.\n",
    "\n",
    "# Complexity\n",
    "- Time Complexity:\n",
    "    - Best Case: O(n²)\n",
    "    - Average Case: O(n²)\n",
    "    - Worst Case: O(n²)\n",
    "- Space Complexity: O(1) (in-place sort).\n",
    "    - Swaps: At most (n-1), better than Bubble Sort."
   ]
  },
  {
   "cell_type": "code",
   "execution_count": null,
   "id": "54c24a99",
   "metadata": {},
   "outputs": [
    {
     "name": "stdout",
     "output_type": "stream",
     "text": [
      "Unsorted: [64, 25, 12, 22, 11]\n",
      "Sorted: [11, 12, 22, 25, 64]\n"
     ]
    }
   ],
   "source": [
    "def selection_sort(arr):\n",
    "    n = len(arr)\n",
    "    for i in range(n):\n",
    "        min_index = i\n",
    "        # Find the minimum in the unsorted part\n",
    "        for j in range(i + 1, n):\n",
    "            if arr[j] < arr[min_index]:\n",
    "                min_index = j\n",
    "        # Swap the found minimum with the first element\n",
    "        arr[i], arr[min_index] = arr[min_index], arr[i]\n",
    "    return arr\n",
    "\n",
    "# Example usage\n",
    "data = [64, 25, 12, 22, 11]\n",
    "print(\"Unsorted:\", data)\n",
    "print(\"Sorted:\", selection_sort(data))\n"
   ]
  },
  {
   "cell_type": "markdown",
   "id": "1c7e8a31",
   "metadata": {},
   "source": [
    "![alt text](image-9.png)"
   ]
  },
  {
   "cell_type": "markdown",
   "id": "17fcbaff",
   "metadata": {},
   "source": [
    "# Insertion Sort:\n",
    "- Insertion Sort works the way you sort playing cards in your hand.\n",
    "- You build the sorted array one element at a time by inserting each element into its correct position.\n",
    "- Good for small or nearly sorted arrays.\n",
    "- it start from index-1 and compare it with previous elements and place it in correct position.\n",
    "\n",
    "# Complexity\n",
    "- Time Complexity:\n",
    "    - Best Case (already sorted): O(n)\n",
    "    - Average Case: O(n²)\n",
    "    - Worst Case (reverse sorted): O(n²)\n",
    "- Space Complexity: O(1) (in-place)\n",
    "- Stability: Stable Sort (keeps order of equal elements)."
   ]
  },
  {
   "cell_type": "code",
   "execution_count": 4,
   "id": "a30ca0bd",
   "metadata": {},
   "outputs": [
    {
     "name": "stdout",
     "output_type": "stream",
     "text": [
      "Unsorted: [12, 11, 13, 5, 6]\n",
      "Sorted: [5, 6, 11, 12, 13]\n"
     ]
    }
   ],
   "source": [
    "def insertion_sort(arr):\n",
    "    for i in range(1, len(arr)):\n",
    "        key = arr[i]  # Current element to insert\n",
    "        j = i - 1\n",
    "        # Shift larger elements to the right\n",
    "        while j >= 0 and key < arr[j]:\n",
    "            arr[j + 1] = arr[j]\n",
    "            j -= 1\n",
    "        arr[j + 1] = key  # Insert key at correct position\n",
    "    return arr\n",
    "\n",
    "# Example usage\n",
    "data = [12, 11, 13, 5, 6]\n",
    "print(\"Unsorted:\", data)\n",
    "print(\"Sorted:\", insertion_sort(data))\n"
   ]
  },
  {
   "cell_type": "markdown",
   "id": "f11db084",
   "metadata": {},
   "source": [
    "![alt text](image-11.png)"
   ]
  },
  {
   "cell_type": "markdown",
   "id": "cb09279b",
   "metadata": {},
   "source": []
  }
 ],
 "metadata": {
  "kernelspec": {
   "display_name": "Python 3",
   "language": "python",
   "name": "python3"
  },
  "language_info": {
   "codemirror_mode": {
    "name": "ipython",
    "version": 3
   },
   "file_extension": ".py",
   "mimetype": "text/x-python",
   "name": "python",
   "nbconvert_exporter": "python",
   "pygments_lexer": "ipython3",
   "version": "3.13.5"
  }
 },
 "nbformat": 4,
 "nbformat_minor": 5
}
