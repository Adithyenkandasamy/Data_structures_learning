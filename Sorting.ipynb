{
 "cells": [
  {
   "cell_type": "markdown",
   "id": "e0a7c8ea",
   "metadata": {
    "vscode": {
     "languageId": "plaintext"
    }
   },
   "source": [
    "# Bubble sort:\n"
   ]
  },
  {
   "cell_type": "code",
   "execution_count": null,
   "id": "bbe01646",
   "metadata": {},
   "outputs": [
    {
     "name": "stdout",
     "output_type": "stream",
     "text": [
      "Unsorted: [64, 34, 25, 12, 22, 11, 90]\n",
      "Sorted: [11, 12, 22, 25, 34, 64, 90]\n"
     ]
    }
   ],
   "source": [
    "def bubble_sort(arr):\n",
    "    n = len(arr)\n",
    "    for i in range(n):  # Loop for passes\n",
    "        for j in range(0, n - i - 1):  # Compare until last sorted part\n",
    "            if arr[j] > arr[j + 1]:  # Swap if wrong order\n",
    "                arr[j], arr[j + 1] = arr[j + 1], arr[j]\n",
    "    return arr\n",
    "\n",
    "\n",
    "# Example usage\n",
    "data = [64, 34, 25, 12, 22, 11, 90]\n",
    "print(\"Unsorted:\", data)\n",
    "print(\"Sorted:\", bubble_sort(data))\n",
    "\n",
    "# More optimised code with a flag to check if any swaps were made\n",
    "def bubble_sort_optimized(arr):\n",
    "    n = len(arr)\n",
    "    for i in range(n):\n",
    "        swapped = False\n",
    "        for j in range(0, n - i - 1):\n",
    "            if arr[j] > arr[j + 1]:\n",
    "                arr[j], arr[j + 1] = arr[j + 1], arr[j]\n",
    "                swapped = True\n",
    "        if not swapped:  # No swaps → already sorted\n",
    "            break\n",
    "    return arr\n"
   ]
  },
  {
   "cell_type": "markdown",
   "id": "2ef2d000",
   "metadata": {},
   "source": [
    "![alt text](image-8.png)"
   ]
  },
  {
   "cell_type": "markdown",
   "id": "9da915df",
   "metadata": {},
   "source": []
  }
 ],
 "metadata": {
  "kernelspec": {
   "display_name": "Python 3",
   "language": "python",
   "name": "python3"
  },
  "language_info": {
   "codemirror_mode": {
    "name": "ipython",
    "version": 3
   },
   "file_extension": ".py",
   "mimetype": "text/x-python",
   "name": "python",
   "nbconvert_exporter": "python",
   "pygments_lexer": "ipython3",
   "version": "3.13.5"
  }
 },
 "nbformat": 4,
 "nbformat_minor": 5
}
