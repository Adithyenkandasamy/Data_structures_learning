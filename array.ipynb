{
 "cells": [
  {
   "cell_type": "code",
   "execution_count": null,
   "id": "e8cdb4bf",
   "metadata": {},
   "outputs": [
    {
     "name": "stdout",
     "output_type": "stream",
     "text": [
      "0\n"
     ]
    }
   ],
   "source": [
    "# Min value code\n",
    "arr = [0,1,2,3,4]\n",
    "Minvalue = arr[0]\n",
    "for i in arr:\n",
    "    if i < Minvalue:\n",
    "        Minvalue = i\n",
    "print(Minvalue)"
   ]
  },
  {
   "cell_type": "code",
   "execution_count": 18,
   "id": "877dce6b",
   "metadata": {},
   "outputs": [
    {
     "name": "stdout",
     "output_type": "stream",
     "text": [
      "a b c d e\n"
     ]
    },
    {
     "name": "stderr",
     "output_type": "stream",
     "text": [
      "/tmp/ipykernel_114956/1676371663.py:6: DeprecationWarning: The 'u' type code is deprecated and will be removed in Python 3.16\n",
      "  arr = ar.array('u', ['a', 'b', 'c', 'd', 'e'])\n"
     ]
    }
   ],
   "source": [
    "import array as ar\n",
    "\n",
    "# array.array(typecode, initializer)\n",
    "# arr = ar.array('i', [1,2,3,4,5])\n",
    "# arr = ar.array('f', [1.0,2.0,3.0,4.0,5.0])\n",
    "arr = ar.array('u', ['a', 'b', 'c', 'd', 'e'])\n",
    "print(*arr)\n",
    "\n",
    "# print(arr.typecode) # it is used for telling the type of array\n"
   ]
  }
 ],
 "metadata": {
  "kernelspec": {
   "display_name": ".venv",
   "language": "python",
   "name": "python3"
  },
  "language_info": {
   "codemirror_mode": {
    "name": "ipython",
    "version": 3
   },
   "file_extension": ".py",
   "mimetype": "text/x-python",
   "name": "python",
   "nbconvert_exporter": "python",
   "pygments_lexer": "ipython3",
   "version": "3.13.7"
  }
 },
 "nbformat": 4,
 "nbformat_minor": 5
}
