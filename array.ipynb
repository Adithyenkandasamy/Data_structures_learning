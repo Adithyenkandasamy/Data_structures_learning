{
 "cells": [
  {
   "cell_type": "code",
   "execution_count": null,
   "id": "e8cdb4bf",
   "metadata": {},
   "outputs": [
    {
     "name": "stdout",
     "output_type": "stream",
     "text": [
      "0\n"
     ]
    }
   ],
   "source": [
    "# Min value code\n",
    "arr = [0,1,2,3,4]\n",
    "Minvalue = arr[0]\n",
    "for i in arr:\n",
    "    if i < Minvalue:\n",
    "        Minvalue = i\n",
    "print(Minvalue)"
   ]
  },
  {
   "cell_type": "code",
   "execution_count": null,
   "id": "877dce6b",
   "metadata": {},
   "outputs": [],
   "source": []
  }
 ],
 "metadata": {
  "kernelspec": {
   "display_name": ".venv",
   "language": "python",
   "name": "python3"
  },
  "language_info": {
   "codemirror_mode": {
    "name": "ipython",
    "version": 3
   },
   "file_extension": ".py",
   "mimetype": "text/x-python",
   "name": "python",
   "nbconvert_exporter": "python",
   "pygments_lexer": "ipython3",
   "version": "3.13.7"
  }
 },
 "nbformat": 4,
 "nbformat_minor": 5
}
